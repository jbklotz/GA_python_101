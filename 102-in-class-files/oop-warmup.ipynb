{
 "cells": [
  {
   "cell_type": "markdown",
   "metadata": {},
   "source": [
    "# Warmup\n",
    "Create a `Song` class that has a `name`, `artist`, `play_count`, and optional `album` attribute. You should have a `play_song()` method that prints:\n",
    "\n",
    "`Now playing {name} by {artist}...`\n",
    "\n",
    "and increases its `play_count` by 1."
   ]
  },
  {
   "cell_type": "code",
   "execution_count": 1,
   "metadata": {},
   "outputs": [],
   "source": [
    "class SongTemplate:\n",
    "    song_count = 0\n",
    "    def __init__(self, name, artist, album=None):\n",
    "        self.name = name\n",
    "        self.artist = artist\n",
    "        self.album = album\n",
    "        self.play_count = 0\n",
    "        SongTemplate.song_count += 1 #self.__class__.song_count += 1 (((SAME CODE)))\n",
    "        \n",
    "        #instances attributes inside the dunderinit, name, artist, album, play count\n",
    "    \n",
    "    def play_song(self):\n",
    "        print(f\"Now playing {self.name} by {self.artist}...\")\n",
    "        self.play_count += 1"
   ]
  },
  {
   "cell_type": "code",
   "execution_count": 2,
   "metadata": {},
   "outputs": [],
   "source": [
    "song1 = SongTemplate(\"All Star\", \"Smash Mouth\", \"Astrolounge\")"
   ]
  },
  {
   "cell_type": "code",
   "execution_count": 3,
   "metadata": {},
   "outputs": [],
   "source": [
    "song2 = SongTemplate(\"Piece of me\", \"Brittney Spears\", \"Blackout\")"
   ]
  },
  {
   "cell_type": "code",
   "execution_count": 4,
   "metadata": {},
   "outputs": [
    {
     "data": {
      "text/plain": [
       "'\\nClass attributes are accessible by classes and their instances.\\nInstance attributes are accessible only by instances.\\n'"
      ]
     },
     "execution_count": 4,
     "metadata": {},
     "output_type": "execute_result"
    }
   ],
   "source": [
    "\"\"\"\n",
    "Class attributes are accessible by classes and their instances.\n",
    "Instance attributes are accessible only by instances.\n",
    "\"\"\""
   ]
  },
  {
   "cell_type": "code",
   "execution_count": 5,
   "metadata": {},
   "outputs": [
    {
     "data": {
      "text/plain": [
       "2"
      ]
     },
     "execution_count": 5,
     "metadata": {},
     "output_type": "execute_result"
    }
   ],
   "source": [
    "song1.song_count"
   ]
  },
  {
   "cell_type": "code",
   "execution_count": 7,
   "metadata": {},
   "outputs": [
    {
     "data": {
      "text/plain": [
       "'All Star'"
      ]
     },
     "execution_count": 7,
     "metadata": {},
     "output_type": "execute_result"
    }
   ],
   "source": [
    "song1.name"
   ]
  },
  {
   "cell_type": "code",
   "execution_count": 8,
   "metadata": {},
   "outputs": [],
   "source": [
    "class SongTemplate:\n",
    "    song_count = 0\n",
    "    def __init__(self):\n",
    "        self.name = input(\"What is the song name? \")\n",
    "        self.artist = input(\"What is the artist name? \")\n",
    "        self.album = input(\"What is the album name? \")\n",
    "        self.play_count = 0\n",
    "        self.__class__.song_count += 1\n",
    "    \n",
    "    def play_song(self):\n",
    "        print(f\"Now playing {self.name} by {self.artist}...\")\n",
    "        self.play_count += 1\n"
   ]
  },
  {
   "cell_type": "code",
   "execution_count": null,
   "metadata": {},
   "outputs": [],
   "source": []
  },
  {
   "cell_type": "code",
   "execution_count": null,
   "metadata": {},
   "outputs": [],
   "source": [
    "for i in range(10):\n",
    "    song1.play_song()"
   ]
  },
  {
   "cell_type": "code",
   "execution_count": null,
   "metadata": {},
   "outputs": [],
   "source": [
    "song1.play_count"
   ]
  },
  {
   "cell_type": "code",
   "execution_count": 1,
   "metadata": {},
   "outputs": [],
   "source": [
    "import random"
   ]
  },
  {
   "cell_type": "code",
   "execution_count": 4,
   "metadata": {},
   "outputs": [],
   "source": [
    "class PlayList:\n",
    "    def __init__(self, song_list, shuffle=True):\n",
    "        self.song_list = song_list\n",
    "        self.n_songs = len(song_list)\n",
    "        self.shuffle = shuffle\n",
    "        \n",
    "    def add_song(self, song):\n",
    "        self.song_list.append(song)\n",
    "        self.n_songs += 1\n",
    "        \n",
    "    def play_song(self, index=None):\n",
    "        if self.shuffle:\n",
    "            rnd = random.randint(0, self.n_songs - 1)\n",
    "            self.song_list[rnd].play_song()\n",
    "        elif index is not None:\n",
    "            self.song_list[index].play_song()"
   ]
  },
  {
   "cell_type": "code",
   "execution_count": 6,
   "metadata": {},
   "outputs": [
    {
     "ename": "NameError",
     "evalue": "name 'Song' is not defined",
     "output_type": "error",
     "traceback": [
      "\u001b[1;31m---------------------------------------------------------------------------\u001b[0m",
      "\u001b[1;31mNameError\u001b[0m                                 Traceback (most recent call last)",
      "\u001b[1;32m<ipython-input-6-e9c52722dfcd>\u001b[0m in \u001b[0;36m<module>\u001b[1;34m\u001b[0m\n\u001b[0;32m      1\u001b[0m song = [\n\u001b[1;32m----> 2\u001b[1;33m     \u001b[0mSong\u001b[0m\u001b[1;33m(\u001b[0m\u001b[1;34m\"All Star\"\u001b[0m\u001b[1;33m,\u001b[0m \u001b[1;34m\"Smash Mouth\"\u001b[0m\u001b[1;33m,\u001b[0m \u001b[1;34m\"Astrolounge\"\u001b[0m\u001b[1;33m)\u001b[0m\u001b[1;33m,\u001b[0m\u001b[1;33m\u001b[0m\u001b[1;33m\u001b[0m\u001b[0m\n\u001b[0m\u001b[0;32m      3\u001b[0m     \u001b[0mSong\u001b[0m\u001b[1;33m(\u001b[0m\u001b[1;34m\"Bananaphone\"\u001b[0m\u001b[1;33m,\u001b[0m \u001b[1;34m\"Rafi\"\u001b[0m\u001b[1;33m)\u001b[0m\u001b[1;33m,\u001b[0m\u001b[1;33m\u001b[0m\u001b[1;33m\u001b[0m\u001b[0m\n\u001b[0;32m      4\u001b[0m     \u001b[0mSong\u001b[0m\u001b[1;33m(\u001b[0m\u001b[1;34m\"Africa\"\u001b[0m\u001b[1;33m,\u001b[0m \u001b[1;34m\"Toto\"\u001b[0m\u001b[1;33m)\u001b[0m\u001b[1;33m,\u001b[0m\u001b[1;33m\u001b[0m\u001b[1;33m\u001b[0m\u001b[0m\n\u001b[0;32m      5\u001b[0m     \u001b[0mSong\u001b[0m\u001b[1;33m(\u001b[0m\u001b[1;34m\"Photograph\"\u001b[0m\u001b[1;33m,\u001b[0m \u001b[1;34m\"Nickelback\"\u001b[0m\u001b[1;33m)\u001b[0m\u001b[1;33m\u001b[0m\u001b[1;33m\u001b[0m\u001b[0m\n",
      "\u001b[1;31mNameError\u001b[0m: name 'Song' is not defined"
     ]
    }
   ],
   "source": [
    "songs = [\n",
    "    Song(\"All Star\", \"Smash Mouth\", \"Astrolounge\"),\n",
    "    Song(\"Bananaphone\", \"Rafi\"),\n",
    "    Song(\"Africa\", \"Toto\"),\n",
    "    Song(\"Photograph\", \"Nickelback\")\n",
    "]"
   ]
  },
  {
   "cell_type": "code",
   "execution_count": null,
   "metadata": {},
   "outputs": [],
   "source": [
    "jamz = PlayList(songs)"
   ]
  },
  {
   "cell_type": "code",
   "execution_count": null,
   "metadata": {},
   "outputs": [],
   "source": [
    "jamz.add_song(Song('Baby', 'Justin Bieber'))"
   ]
  },
  {
   "cell_type": "code",
   "execution_count": null,
   "metadata": {},
   "outputs": [],
   "source": [
    "for i in range(4):\n",
    "    jamz.play_song()"
   ]
  },
  {
   "cell_type": "code",
   "execution_count": null,
   "metadata": {},
   "outputs": [],
   "source": []
  }
 ],
 "metadata": {
  "kernelspec": {
   "display_name": "Python 3",
   "language": "python",
   "name": "python3"
  },
  "language_info": {
   "codemirror_mode": {
    "name": "ipython",
    "version": 3
   },
   "file_extension": ".py",
   "mimetype": "text/x-python",
   "name": "python",
   "nbconvert_exporter": "python",
   "pygments_lexer": "ipython3",
   "version": "3.7.3"
  }
 },
 "nbformat": 4,
 "nbformat_minor": 2
}
