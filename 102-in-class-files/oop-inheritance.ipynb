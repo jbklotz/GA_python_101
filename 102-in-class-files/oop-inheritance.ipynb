{
 "cells": [
  {
   "cell_type": "markdown",
   "metadata": {},
   "source": [
    "## Class Variables"
   ]
  },
  {
   "cell_type": "code",
   "execution_count": 48,
   "metadata": {},
   "outputs": [],
   "source": [
    "class Car:\n",
    "    n_cars = 0\n",
    "    car_types = []\n",
    "    \n",
    "    def __init__(self, make, model):\n",
    "        self.make = make\n",
    "        self.model = model\n",
    "        Car.n_cars += 1\n",
    "        Car.car_types.append(make)"
   ]
  },
  {
   "cell_type": "code",
   "execution_count": 49,
   "metadata": {},
   "outputs": [],
   "source": [
    "car1 = Car(\"Chrysler\", \"PT Cruiser\")\n",
    "car2 = Car(\"Nissan\", \"Cube\")\n",
    "car3 = Car(\"Fiat\", \"500\")"
   ]
  },
  {
   "cell_type": "code",
   "execution_count": 32,
   "metadata": {},
   "outputs": [
    {
     "data": {
      "text/plain": [
       "3"
      ]
     },
     "execution_count": 32,
     "metadata": {},
     "output_type": "execute_result"
    }
   ],
   "source": [
    "car1.n_cars"
   ]
  },
  {
   "cell_type": "code",
   "execution_count": 33,
   "metadata": {},
   "outputs": [
    {
     "data": {
      "text/plain": [
       "3"
      ]
     },
     "execution_count": 33,
     "metadata": {},
     "output_type": "execute_result"
    }
   ],
   "source": [
    "car2.n_cars"
   ]
  },
  {
   "cell_type": "code",
   "execution_count": 34,
   "metadata": {},
   "outputs": [
    {
     "data": {
      "text/plain": [
       "3"
      ]
     },
     "execution_count": 34,
     "metadata": {},
     "output_type": "execute_result"
    }
   ],
   "source": [
    "Car.n_cars"
   ]
  },
  {
   "cell_type": "code",
   "execution_count": 35,
   "metadata": {},
   "outputs": [
    {
     "data": {
      "text/plain": [
       "['Chrysler', 'Nissan', 'Fiat']"
      ]
     },
     "execution_count": 35,
     "metadata": {},
     "output_type": "execute_result"
    }
   ],
   "source": [
    "Car.car_types"
   ]
  },
  {
   "cell_type": "markdown",
   "metadata": {},
   "source": [
    "# Inheritance"
   ]
  },
  {
   "cell_type": "code",
   "execution_count": 53,
   "metadata": {},
   "outputs": [],
   "source": [
    "class Phone:\n",
    "    def __init__(self, number):\n",
    "        self.number = number\n",
    "        \n",
    "    def call(self, other_number):\n",
    "        print(f\"Calling from: {self.number} to: {other_number}\")\n",
    "        \n",
    "    def text(self, other_number, msg):\n",
    "        print(f\"From: {self.number}\")\n",
    "        print(f\"To: {other_number}\")\n",
    "        print(msg)"
   ]
  },
  {
   "cell_type": "code",
   "execution_count": 54,
   "metadata": {},
   "outputs": [],
   "source": [
    "test_phone = Phone(1234)"
   ]
  },
  {
   "cell_type": "code",
   "execution_count": 55,
   "metadata": {},
   "outputs": [
    {
     "name": "stdout",
     "output_type": "stream",
     "text": [
      "Calling from: 1234 to: 6789\n"
     ]
    }
   ],
   "source": [
    "test_phone.call(6789)"
   ]
  },
  {
   "cell_type": "code",
   "execution_count": 57,
   "metadata": {},
   "outputs": [
    {
     "name": "stdout",
     "output_type": "stream",
     "text": [
      "From: 1234\n",
      "To: 555\n",
      "wyd\n"
     ]
    }
   ],
   "source": [
    "test_phone.text(555, \"wyd\")"
   ]
  },
  {
   "cell_type": "code",
   "execution_count": 70,
   "metadata": {},
   "outputs": [],
   "source": [
    "class IPhone(Phone):\n",
    "    def __init__(self, number):\n",
    "        super().__init__(number)\n",
    "        self.fingerprint = None\n",
    "        \n",
    "    def set_fingerprint(self, fingerprint):\n",
    "        self.fingerprint = fingerprint\n",
    "        \n",
    "    def unlock(self, fingerprint=None):\n",
    "        if fingerprint == self.fingerprint:\n",
    "            print(\"Phone unlocked. Welcome back!\")\n",
    "        elif self.fingerprint is None:\n",
    "            print(\"Phone unlocked. Welcome back!\")\n",
    "        else:\n",
    "            print(\"INTRUDER DETECTED.\")\n",
    "            print(\"PHONE WILL NOW SELF DESTRUCT.\")"
   ]
  },
  {
   "cell_type": "code",
   "execution_count": 71,
   "metadata": {},
   "outputs": [],
   "source": [
    "timphone = IPhone(123456789)"
   ]
  },
  {
   "cell_type": "code",
   "execution_count": 72,
   "metadata": {},
   "outputs": [
    {
     "name": "stdout",
     "output_type": "stream",
     "text": [
      "From: 123456789\n",
      "To: 987654321\n",
      "u up?\n"
     ]
    }
   ],
   "source": [
    "timphone.text(987654321, \"u up?\")"
   ]
  },
  {
   "cell_type": "code",
   "execution_count": 73,
   "metadata": {},
   "outputs": [],
   "source": [
    "# timphone.set_fingerprint(\"yellowpencil\")"
   ]
  },
  {
   "cell_type": "code",
   "execution_count": 74,
   "metadata": {},
   "outputs": [
    {
     "name": "stdout",
     "output_type": "stream",
     "text": [
      "Phone unlocked. Welcome back!\n"
     ]
    }
   ],
   "source": [
    "timphone.unlock()"
   ]
  },
  {
   "cell_type": "code",
   "execution_count": 75,
   "metadata": {},
   "outputs": [],
   "source": [
    "timphone.set_fingerprint('letmein')"
   ]
  },
  {
   "cell_type": "code",
   "execution_count": 76,
   "metadata": {},
   "outputs": [
    {
     "name": "stdout",
     "output_type": "stream",
     "text": [
      "Phone unlocked. Welcome back!\n"
     ]
    }
   ],
   "source": [
    "timphone.unlock(\"letmein\")"
   ]
  },
  {
   "cell_type": "code",
   "execution_count": 77,
   "metadata": {},
   "outputs": [
    {
     "name": "stdout",
     "output_type": "stream",
     "text": [
      "INTRUDER DETECTED.\n",
      "PHONE WILL NOW SELF DESTRUCT.\n"
     ]
    }
   ],
   "source": [
    "timphone.unlock('asfasfsaf')"
   ]
  },
  {
   "cell_type": "code",
   "execution_count": 84,
   "metadata": {},
   "outputs": [],
   "source": [
    "class Animal:\n",
    "    def is_mammal(self):\n",
    "        return True\n",
    "    \n",
    "    def is_alive(self):\n",
    "        return True\n",
    "    \n",
    "class Grasshopper(Animal):\n",
    "    def is_small(self):\n",
    "        return True\n",
    "    \n",
    "    def is_mammal(self):\n",
    "        return False"
   ]
  },
  {
   "cell_type": "code",
   "execution_count": 85,
   "metadata": {},
   "outputs": [],
   "source": [
    "bug = Grasshopper()"
   ]
  },
  {
   "cell_type": "code",
   "execution_count": 86,
   "metadata": {},
   "outputs": [
    {
     "data": {
      "text/plain": [
       "False"
      ]
     },
     "execution_count": 86,
     "metadata": {},
     "output_type": "execute_result"
    }
   ],
   "source": [
    "bug.is_mammal()"
   ]
  },
  {
   "cell_type": "code",
   "execution_count": 87,
   "metadata": {},
   "outputs": [
    {
     "data": {
      "text/plain": [
       "True"
      ]
     },
     "execution_count": 87,
     "metadata": {},
     "output_type": "execute_result"
    }
   ],
   "source": [
    "bug.is_alive()"
   ]
  },
  {
   "cell_type": "code",
   "execution_count": 88,
   "metadata": {},
   "outputs": [
    {
     "data": {
      "text/plain": [
       "True"
      ]
     },
     "execution_count": 88,
     "metadata": {},
     "output_type": "execute_result"
    }
   ],
   "source": [
    "bug.is_small()"
   ]
  },
  {
   "cell_type": "code",
   "execution_count": null,
   "metadata": {},
   "outputs": [],
   "source": []
  }
 ],
 "metadata": {
  "kernelspec": {
   "display_name": "Python 3",
   "language": "python",
   "name": "python3"
  },
  "language_info": {
   "codemirror_mode": {
    "name": "ipython",
    "version": 3
   },
   "file_extension": ".py",
   "mimetype": "text/x-python",
   "name": "python",
   "nbconvert_exporter": "python",
   "pygments_lexer": "ipython3",
   "version": "3.7.3"
  }
 },
 "nbformat": 4,
 "nbformat_minor": 2
}
